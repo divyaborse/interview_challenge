{
 "cells": [
  {
   "cell_type": "code",
   "execution_count": 0,
   "metadata": {
    "application/vnd.databricks.v1+cell": {
     "cellMetadata": {
      "byteLimit": 2048000,
      "rowLimit": 10000
     },
     "inputWidgets": {},
     "nuid": "a136f577-d7cc-4faa-a226-6959c567fda9",
     "showTitle": false,
     "title": ""
    }
   },
   "outputs": [
    {
     "output_type": "stream",
     "name": "stdout",
     "output_type": "stream",
     "text": [
      "+--------+--------------------+-------+----------------+----------+-------------+\n| code_id|          code_label|bckt_id|      bckt_label|ownrshp_id|ownrshp_label|\n+--------+--------------------+-------+----------------+----------+-------------+\n| INV-880|          In-Transit|   IBIT|      In-transit|        IB|      Inbound|\n| INV-875|                 ASN|   IBOO|        On Order|        IB|      Inbound|\n| INV-800|            On Order|   IBOO|        On Order|        IB|      Inbound|\n| INV-850|      Store On Order|   IBOO|        On Order|        IB|      Inbound|\n| INV-900|           Available|   OHAV|       Available|        OH|      On Hand|\n|  INV-20|        In Receiving|   OHAV|       Available|        OH|      On Hand|\n|  INV-01|            New Item|   OHFA|Future Available|        OH|      On Hand|\n|  INV-02|Shipments waiting...|   OHFA|Future Available|        OH|      On Hand|\n|  INV-03|Item restricted f...|   OHFA|Future Available|        OH|      On Hand|\n|  INV-06|Needs to go to cl...|   OHFA|Future Available|        OH|      On Hand|\n|  INV-07|Needs to go to se...|   OHFA|Future Available|        OH|      On Hand|\n|  INV-09|Waiting for coord...|   OHFA|Future Available|        OH|      On Hand|\n|  INV-10|       Missing parts|   OHFA|Future Available|        OH|      On Hand|\n|INV-1000|         Cycle Count|   OHFA|Future Available|        OH|      On Hand|\n|  INV-11|       Add Packaging|   OHFA|Future Available|        OH|      On Hand|\n|  INV-13|      Retouch/Repair|   OHFA|Future Available|        OH|      On Hand|\n|  INV-15|              Mistag|   OHFA|Future Available|        OH|      On Hand|\n|  INV-98|       STORE returns|   OHFA|Future Available|        OH|      On Hand|\n| INV-999|Restricted - No r...|   OHFA|Future Available|        OH|      On Hand|\n|  RET-11|     RETURN TO STOCK|   OHFA|Future Available|        OH|      On Hand|\n+--------+--------------------+-------+----------------+----------+-------------+\nonly showing top 20 rows\n\n"
     ]
    }
   ],
   "source": [
    "df_invstatus = spark.read.option(\"delimiter\", \"|\").option(\"compression\", \"gzip\").option(\"header\",\"True\").csv(\"/FileStore/pyspark/1.parquet/hier_invstatus_dlm.gz\")\n",
    "df_invstatus.show()"
   ]
  },
  {
   "cell_type": "code",
   "execution_count": 0,
   "metadata": {
    "application/vnd.databricks.v1+cell": {
     "cellMetadata": {
      "byteLimit": 2048000,
      "rowLimit": 10000
     },
     "inputWidgets": {},
     "nuid": "6c9aaf5d-275d-4301-87cb-210668a322f4",
     "showTitle": false,
     "title": ""
    }
   },
   "outputs": [
    {
     "output_type": "stream",
     "name": "stdout",
     "output_type": "stream",
     "text": [
      "+---+--------------------+-------+-------------+\n|loc|           loc_label|loctype|loctype_label|\n+---+--------------------+-------+-------------+\n|103|    Catalog/Internet|     DC|           DC|\n|119|              Retail|     DC|           DC|\n|113|       The Boulevard|  Store|        Store|\n|118|           Evergreen|  Store|        Store|\n|125|           Arboretum|  Store|        Store|\n|126|          Burr Ridge|  Store|        Store|\n|127|        Park Meadows|  Store|        Store|\n|128|           Southlake|  Store|        Store|\n|129|  Country Club Plaza|  Store|        Store|\n|130|        Copley Place|  Store|        Store|\n|131|       Chestnut Hill|  Store|        Store|\n|132|          La Cantera|  Store|        Store|\n|133|       The Woodlands|  Store|        Store|\n|134|     King of Prussia|  Store|        Store|\n|135|Town & Country Vi...|  Store|        Store|\n|136|          Short Pump|  Store|        Store|\n|137|    Greenway Station|  Store|        Store|\n|138|Market Street Lyn...|  Store|        Store|\n|139|  Bridgeport Village|  Store|        Store|\n|140|   Avalon Alpharetta|  Store|        Store|\n+---+--------------------+-------+-------------+\nonly showing top 20 rows\n\n"
     ]
    }
   ],
   "source": [
    "df_invloc = spark.read.option(\"delimiter\", \"|\").option(\"compression\", \"gzip\").option(\"header\",\"True\").csv(\"/FileStore/pyspark/1.parquet/hier_invloc_dlm.gz\")\n",
    "df_invloc.show()"
   ]
  },
  {
   "cell_type": "code",
   "execution_count": 0,
   "metadata": {
    "application/vnd.databricks.v1+cell": {
     "cellMetadata": {
      "byteLimit": 2048000,
      "rowLimit": 10000
     },
     "inputWidgets": {},
     "nuid": "2487b559-cc03-41ad-b22b-e10b37f9f792",
     "showTitle": false,
     "title": ""
    }
   },
   "outputs": [
    {
     "output_type": "stream",
     "name": "stdout",
     "output_type": "stream",
     "text": [
      "+-----------+--------------+--------+-----------+\n|substate_id|substate_label|state_id|state_label|\n+-----------+--------------+--------+-----------+\n|         FP|    Full Price|      FP| Full Price|\n|        MD1|    Markdown 1|      MD|   Markdown|\n|        MD2|    Markdown 2|      MD|   Markdown|\n|        MD3|    Markdown 3|      MD|   Markdown|\n+-----------+--------------+--------+-----------+\n\n"
     ]
    }
   ],
   "source": [
    "df_pricestate=  spark.read.option(\"delimiter\", \"|\").option(\"compression\", \"gzip\").option(\"header\",\"True\").csv(\"/FileStore/pyspark/1.parquet/hier_pricestate_dlm.gz\")\n",
    "df_pricestate.show()"
   ]
  },
  {
   "cell_type": "code",
   "execution_count": 0,
   "metadata": {
    "application/vnd.databricks.v1+cell": {
     "cellMetadata": {
      "byteLimit": 2048000,
      "rowLimit": 10000
     },
     "inputWidgets": {},
     "nuid": "ff6c5572-de40-4dc0-9b2a-07400513a727",
     "showTitle": false,
     "title": ""
    }
   },
   "outputs": [
    {
     "output_type": "stream",
     "name": "stdout",
     "output_type": "stream",
     "text": [
      "+--------+--------------------+----------+----------------+-------+-----------+\n| site_id|          site_label|subchnl_id|   subchnl_label|chnl_id| chnl_label|\n+--------+--------------------+----------+----------------+-------+-----------+\n| CATMAIN|        Catalog Main|   CATMAIN|    Catalog Main|    CAT|    Catalog|\n|CATPROSP|    Catalog Prospect|  CATPROSP|Catalog Prospect|    CAT|    Catalog|\n| CATSALE|        Catalog Sale|   CATSALE|    Catalog Sale|    CAT|    Catalog|\n|INETMAIN|       Internet Main|  INETMAIN|   Internet Main|   INET|   Internet|\n| INETOUT|     Internet Outlet|   INETOUT| Internet Outlet|   INET|   Internet|\n| RTLOPCS|         Retail OPCS|   RTLOPCS|     Retail OPCS|RTLOPCS|Retail OPCS|\n|     115|  STL County Library|    RTLPOS|      Retail POS| RTLPOS| Retail POS|\n|     126|          Burr Ridge|    RTLPOS|      Retail POS| RTLPOS| Retail POS|\n|     130|        Copley Place|    RTLPOS|      Retail POS| RTLPOS| Retail POS|\n|     118|      Evergreen Walk|    RTLPOS|      Retail POS| RTLPOS| Retail POS|\n|     131|       Chestnut Hill|    RTLPOS|      Retail POS| RTLPOS| Retail POS|\n|     138|Market Street Lyn...|    RTLPOS|      Retail POS| RTLPOS| Retail POS|\n|     141|        Paramus Park|    RTLPOS|      Retail POS| RTLPOS| Retail POS|\n|     142| Bridgewater Commons|    RTLPOS|      Retail POS| RTLPOS| Retail POS|\n|     152|      Annapolis Mall|    RTLPOS|      Retail POS| RTLPOS| Retail POS|\n|     163|          Union Hill|    RTLPOS|      Retail POS| RTLPOS| Retail POS|\n|     180|       Eastview Mall|    RTLPOS|      Retail POS| RTLPOS| Retail POS|\n|     182|         Hunt Valley|    RTLPOS|      Retail POS| RTLPOS| Retail POS|\n|     184|    Mall in Columbia|    RTLPOS|      Retail POS| RTLPOS| Retail POS|\n|     204|   Danbury Fair Mall|    RTLPOS|      Retail POS| RTLPOS| Retail POS|\n+--------+--------------------+----------+----------------+-------+-----------+\nonly showing top 20 rows\n\n"
     ]
    }
   ],
   "source": [
    "df_possite = spark.read.option(\"delimiter\", \"|\").option(\"compression\", \"gzip\").option(\"header\",\"True\").csv(\"/FileStore/pyspark/1.parquet/hier_possite_dlm.gz\")\n",
    "df_possite.show()"
   ]
  },
  {
   "cell_type": "code",
   "execution_count": 0,
   "metadata": {
    "application/vnd.databricks.v1+cell": {
     "cellMetadata": {
      "byteLimit": 2048000,
      "rowLimit": 10000
     },
     "inputWidgets": {},
     "nuid": "867b4243-4fc6-43be-8248-9fc7ee58433f",
     "showTitle": false,
     "title": ""
    }
   },
   "outputs": [
    {
     "output_type": "stream",
     "name": "stdout",
     "output_type": "stream",
     "text": [
      "+----------+--------------------+----------+--------------------+-------+--------------------+---------+------------+------+---------+-------+----------+-----+--------+-----+\n|    sku_id|           sku_label|stylclr_id|       stylclr_label|styl_id|          styl_label|subcat_id|subcat_label|cat_id|cat_label|dept_id|dept_label|issvc|isasmbly|isnfs|\n+----------+--------------------+----------+--------------------+-------+--------------------+---------+------------+------+---------+-------+----------+-----+--------+-----+\n|2230940206|COTTON UNDERWIRE ...|   2230940|COTTON UNDERWIRE ...|  22309|COTTON UNDERWIRE ...|      405|        TOPS|  1000|     TOPS|   2000|   APPAREL|    0|       0|    0|\n|2230940208|COTTON UNDERWIRE ...|   2230940|COTTON UNDERWIRE ...|  22309|COTTON UNDERWIRE ...|      405|        TOPS|  1000|     TOPS|   2000|   APPAREL|    0|       0|    0|\n|2230940308|COTTON UNDERWIRE ...|   2230940|COTTON UNDERWIRE ...|  22309|COTTON UNDERWIRE ...|      405|        TOPS|  1000|     TOPS|   2000|   APPAREL|    0|       0|    0|\n|2230980302|COTTON UNDERWIRE ...|   2230980|COTTON UNDERWIRE ...|  22309|COTTON UNDERWIRE ...|      405|        TOPS|  1000|     TOPS|   2000|   APPAREL|    0|       0|    0|\n|2231033324|UNDERWIRE 3/4 SLE...|   2231033|UNDERWIRE 3/4 SLE...|  22310|UNDERWIRE 3/4 SLE...|      405|        TOPS|  1000|     TOPS|   2000|   APPAREL|    0|       0|    0|\n|2231040342|UNDERWIRE 3/4 SLE...|   2231040|UNDERWIRE 3/4 SLE...|  22310|UNDERWIRE 3/4 SLE...|      405|        TOPS|  1000|     TOPS|   2000|   APPAREL|    0|       0|    0|\n|2231112206|UNDERWIRE TEE EMB...|   2231112|UNDERWIRE TEE EMB...|  22311|       UNDERWIRE TEE|      405|        TOPS|  1000|     TOPS|   2000|   APPAREL|    0|       0|    0|\n|2259240501|HALF MOON BAY TOP...|   2259240|HALF MOON BAY TOP...|  22592|   HALF MOON BAY TOP|      405|        TOPS|  1000|     TOPS|   2000|   APPAREL|    0|       0|    0|\n|2259240601|HALF MOON BAY TOP...|   2259240|HALF MOON BAY TOP...|  22592|   HALF MOON BAY TOP|      405|        TOPS|  1000|     TOPS|   2000|   APPAREL|    0|       0|    0|\n|2259240701|HALF MOON BAY TOP...|   2259240|HALF MOON BAY TOP...|  22592|   HALF MOON BAY TOP|      405|        TOPS|  1000|     TOPS|   2000|   APPAREL|    0|       0|    0|\n|2259240801|HALF MOON BAY TOP...|   2259240|HALF MOON BAY TOP...|  22592|   HALF MOON BAY TOP|      405|        TOPS|  1000|     TOPS|   2000|   APPAREL|    0|       0|    0|\n|2259240901|HALF MOON BAY TOP...|   2259240|HALF MOON BAY TOP...|  22592|   HALF MOON BAY TOP|      405|        TOPS|  1000|     TOPS|   2000|   APPAREL|    0|       0|    0|\n|2438511901|RENAISSANCE TOP R...|   2438511|RENAISSANCE TOP R...|  24385|     RENAISSANCE TOP|      405|        TOPS|  1000|     TOPS|   2000|   APPAREL|    0|       0|    0|\n|2464540601|TAOS TOP WHITE SM...|   2464540|      TAOS TOP WHITE|  24645|            TAOS TOP|      405|        TOPS|  1000|     TOPS|   2000|   APPAREL|    0|       0|    0|\n|2464540701|TAOS TOP WHITE ME...|   2464540|      TAOS TOP WHITE|  24645|            TAOS TOP|      405|        TOPS|  1000|     TOPS|   2000|   APPAREL|    0|       0|    0|\n|2464540801|TAOS TOP WHITE LA...|   2464540|      TAOS TOP WHITE|  24645|            TAOS TOP|      405|        TOPS|  1000|     TOPS|   2000|   APPAREL|    0|       0|    0|\n|2464540901|TAOS TOP WHITE XL...|   2464540|      TAOS TOP WHITE|  24645|            TAOS TOP|      405|        TOPS|  1000|     TOPS|   2000|   APPAREL|    0|       0|    0|\n|2569520701|GAUZE PULLOVER BL...|   2569520|GAUZE PULLOVER BLACK|  25695|      GAUZE PULLOVER|      405|        TOPS|  1000|     TOPS|   2000|   APPAREL|    0|       0|    0|\n|2569520801|GAUZE PULLOVER BL...|   2569520|GAUZE PULLOVER BLACK|  25695|      GAUZE PULLOVER|      405|        TOPS|  1000|     TOPS|   2000|   APPAREL|    0|       0|    0|\n|2569540701|GAUZE PULLOVER WH...|   2569540|GAUZE PULLOVER WHITE|  25695|      GAUZE PULLOVER|      405|        TOPS|  1000|     TOPS|   2000|   APPAREL|    0|       0|    0|\n+----------+--------------------+----------+--------------------+-------+--------------------+---------+------------+------+---------+-------+----------+-----+--------+-----+\nonly showing top 20 rows\n\nOut[11]: ['sku_id',\n 'sku_label',\n 'stylclr_id',\n 'stylclr_label',\n 'styl_id',\n 'styl_label',\n 'subcat_id',\n 'subcat_label',\n 'cat_id',\n 'cat_label',\n 'dept_id',\n 'dept_label',\n 'issvc',\n 'isasmbly',\n 'isnfs']"
     ]
    }
   ],
   "source": [
    "df_prod = spark.read.option(\"delimiter\", \"|\").option(\"compression\", \"gzip\").option(\"header\",\"True\").csv(\"/FileStore/pyspark/1.parquet/hier_prod_dlm.gz\")\n",
    "df_prod.show()\n",
    "df_prod.columns"
   ]
  },
  {
   "cell_type": "code",
   "execution_count": 0,
   "metadata": {
    "application/vnd.databricks.v1+cell": {
     "cellMetadata": {
      "byteLimit": 2048000,
      "rowLimit": 10000
     },
     "inputWidgets": {},
     "nuid": "e38b8052-20c0-43dc-86c4-1b743af980c6",
     "showTitle": false,
     "title": ""
    }
   },
   "outputs": [
    {
     "output_type": "stream",
     "name": "stdout",
     "output_type": "stream",
     "text": [
      "+---------+----------+-------------------------+-----------------------+\n|fscldt_id|    sku_id|average_unit_standardcost|average_unit_landedcost|\n+---------+----------+-------------------------+-----------------------+\n| 20160131|0174410000|                    10.06|                  10.06|\n| 20160201|0174410000|                    10.06|                  10.06|\n| 20160202|0174410000|                    10.06|                  10.06|\n| 20160203|0174410000|                    10.06|                  10.06|\n| 20160204|0174410000|                    10.06|                  10.06|\n| 20160205|0174410000|                    10.06|                  10.06|\n| 20160206|0174410000|                    10.06|                  10.06|\n| 20160207|0174410000|                    10.06|                  10.06|\n| 20160208|0174410000|                    10.06|                  10.06|\n| 20160209|0174410000|                    10.06|                  10.06|\n| 20160210|0174410000|                    10.06|                  10.06|\n| 20160211|0174410000|                    10.06|                  10.06|\n| 20160212|0174410000|                    10.06|                  10.06|\n| 20160213|0174410000|                    10.06|                  10.06|\n| 20160214|0174410000|                    10.06|                  10.06|\n| 20160215|0174410000|                    10.06|                  10.06|\n| 20160216|0174410000|                    10.06|                  10.06|\n| 20160217|0174410000|                    10.06|                  10.06|\n| 20160218|0174410000|                    10.06|                  10.06|\n| 20160219|0174410000|                    10.06|                  10.06|\n+---------+----------+-------------------------+-----------------------+\nonly showing top 20 rows\n\n"
     ]
    }
   ],
   "source": [
    "\n",
    "df_fact1 = spark.read.option(\"delimiter\", \"|\").option(\"compression\", \"gzip\").option(\"header\",\"True\").csv(\"/FileStore/fact_averagecosts_dlm.gz\")\n",
    "df_fact1.show()"
   ]
  },
  {
   "cell_type": "code",
   "execution_count": 0,
   "metadata": {
    "application/vnd.databricks.v1+cell": {
     "cellMetadata": {
      "byteLimit": 2048000,
      "rowLimit": 10000
     },
     "inputWidgets": {},
     "nuid": "e4836c75-50b5-41ee-9eba-518cb4589b8c",
     "showTitle": false,
     "title": ""
    }
   },
   "outputs": [
    {
     "output_type": "stream",
     "name": "stdout",
     "output_type": "stream",
     "text": [
      "+---+--------------------+----+----------------+---+--------------+\n|str|           str_label|dstr|      dstr_label|rgn|     rgn_label|\n+---+--------------------+----+----------------+---+--------------+\n|115|  STL County Library|   0|No District Name|  0|No Region Name|\n|126|          Burr Ridge|   0|No District Name|  0|No Region Name|\n|130|        Copley Place|   0|No District Name|  0|No Region Name|\n|118|      Evergreen Walk|  11|       Northeast| 11|          East|\n|131|       Chestnut Hill|  11|       Northeast| 11|          East|\n|138|Market Street Lyn...|  11|       Northeast| 11|          East|\n|141|        Paramus Park|  11|       Northeast| 11|          East|\n|142| Bridgewater Commons|  11|       Northeast| 11|          East|\n|152|      Annapolis Mall|  11|       Northeast| 11|          East|\n|163|          Union Hill|  11|       Northeast| 11|          East|\n|180|       Eastview Mall|  11|       Northeast| 11|          East|\n|182|         Hunt Valley|  11|       Northeast| 11|          East|\n|184|    Mall in Columbia|  11|       Northeast| 11|          East|\n|204|   Danbury Fair Mall|  11|       Northeast| 11|          East|\n|134|     King of Prussia|  12|    Mid-Atlantic| 12|          East|\n|136|          Short Pump|  12|    Mid-Atlantic| 12|          East|\n|144|      Fairfax Corner|  12|    Mid-Atlantic| 12|          East|\n|147|        Crocker Park|  12|    Mid-Atlantic| 12|          East|\n|148|        Brinton Lake|  12|    Mid-Atlantic| 12|          East|\n|157|      Legacy Village|  12|    Mid-Atlantic| 12|          East|\n+---+--------------------+----+----------------+---+--------------+\nonly showing top 20 rows\n\n"
     ]
    }
   ],
   "source": [
    "\n",
    "df_rtlloc = spark.read.option(\"delimiter\", \"|\").option(\"compression\", \"gzip\").option(\"header\",\"True\").csv(\"/FileStore/hier_rtlloc_dlm.gz\")\n",
    "df_rtlloc.show()"
   ]
  },
  {
   "cell_type": "code",
   "execution_count": 0,
   "metadata": {
    "application/vnd.databricks.v1+cell": {
     "cellMetadata": {
      "byteLimit": 2048000,
      "rowLimit": 10000
     },
     "inputWidgets": {},
     "nuid": "035ba637-33fc-4f5d-8bc9-857aeb696eb0",
     "showTitle": false,
     "title": ""
    }
   },
   "outputs": [
    {
     "output_type": "stream",
     "name": "stdout",
     "output_type": "stream",
     "text": [
      "+--------------------+--------------------+\n|             hldy_id|          hldy_label|\n+--------------------+--------------------+\n|      Valentines_Day|     Valentine's Day|\n|      Presidents_Day|      Presidents Day|\n|     St_Patricks_Day|   St. Patrick's Day|\n|              Easter|              Easter|\n|         Mothers_Day|        Mother's Day|\n|        Memorial_Day|        Memorial Day|\n|         Fathers_Day|        Father's Day|\n|    Independence_Day|    Independence Day|\n|           Labor_Day|           Labor Day|\n|       Rosh_Hashanah|       Rosh Hashanah|\n|          Yom_Kippur|          Yom Kippur|\n|        Columbus_Day|        Columbus Day|\n|           Halloween|           Halloween|\n|        Election_Day|        Election Day|\n|        Veterans_Day|        Veterans Day|\n|        Thanksgiving|        Thanksgiving|\n|           Christmas|           Christmas|\n|       New_Years_Day|      New Year's Day|\n|Martin_Luther_Kin...|Martin Luther Kin...|\n+--------------------+--------------------+\n\n"
     ]
    }
   ],
   "source": [
    "\n",
    "df_hldy = spark.read.option(\"delimiter\", \"|\").option(\"compression\", \"gzip\").option(\"header\",\"True\").csv(\"/FileStore/hier_hldy_dlm.gz\")\n",
    "df_hldy.show()"
   ]
  },
  {
   "cell_type": "code",
   "execution_count": 0,
   "metadata": {
    "application/vnd.databricks.v1+cell": {
     "cellMetadata": {
      "byteLimit": 2048000,
      "rowLimit": 10000
     },
     "inputWidgets": {},
     "nuid": "53f1ac58-e128-43b8-b208-62d46dd0e7fe",
     "showTitle": false,
     "title": ""
    }
   },
   "outputs": [
    {
     "output_type": "stream",
     "name": "stdout",
     "output_type": "stream",
     "text": [
      "+---------+------------+---------+------------+----------+-------------+-----------+--------------+---------+------------+--------+-----------+------------+-------------+-------+-------+-------+-------+-------+-------+-------+----------+\n|fscldt_id|fscldt_label|fsclwk_id|fsclwk_label|fsclmth_id|fsclmth_label|fsclqrtr_id|fsclqrtr_label|fsclyr_id|fsclyr_label|  ssn_id|  ssn_label|ly_fscldt_id|lly_fscldt_id|fscldow|fscldom|fscldoq|fscldoy|fsclwoy|fsclmoy|fsclqoy|      date|\n+---------+------------+---------+------------+----------+-------------+-----------+--------------+---------+------------+--------+-----------+------------+-------------+-------+-------+-------+-------+-------+-------+-------+----------+\n| 20180204| Feb 4, 2018|   201801| WK 01, 2018|    201801|    Feb, 2018|      20181|      Q1, 2018|     2018|        2018|SPRG2018|Spring 2018|    20170205|     20160207|      1|      1|      1|      1|      1|      1|      1|2018-02-04|\n| 20180205| Feb 5, 2018|   201801| WK 01, 2018|    201801|    Feb, 2018|      20181|      Q1, 2018|     2018|        2018|SPRG2018|Spring 2018|    20170206|     20160208|      2|      2|      2|      2|      1|      1|      1|2018-02-05|\n| 20180206| Feb 6, 2018|   201801| WK 01, 2018|    201801|    Feb, 2018|      20181|      Q1, 2018|     2018|        2018|SPRG2018|Spring 2018|    20170207|     20160209|      3|      3|      3|      3|      1|      1|      1|2018-02-06|\n| 20180207| Feb 7, 2018|   201801| WK 01, 2018|    201801|    Feb, 2018|      20181|      Q1, 2018|     2018|        2018|SPRG2018|Spring 2018|    20170208|     20160210|      4|      4|      4|      4|      1|      1|      1|2018-02-07|\n| 20180208| Feb 8, 2018|   201801| WK 01, 2018|    201801|    Feb, 2018|      20181|      Q1, 2018|     2018|        2018|SPRG2018|Spring 2018|    20170209|     20160211|      5|      5|      5|      5|      1|      1|      1|2018-02-08|\n| 20180209| Feb 9, 2018|   201801| WK 01, 2018|    201801|    Feb, 2018|      20181|      Q1, 2018|     2018|        2018|SPRG2018|Spring 2018|    20170210|     20160212|      6|      6|      6|      6|      1|      1|      1|2018-02-09|\n| 20180210|Feb 10, 2018|   201801| WK 01, 2018|    201801|    Feb, 2018|      20181|      Q1, 2018|     2018|        2018|SPRG2018|Spring 2018|    20170211|     20160213|      7|      7|      7|      7|      1|      1|      1|2018-02-10|\n| 20180211|Feb 11, 2018|   201802| WK 02, 2018|    201801|    Feb, 2018|      20181|      Q1, 2018|     2018|        2018|SPRG2018|Spring 2018|    20170212|     20160214|      1|      8|      8|      8|      2|      1|      1|2018-02-11|\n| 20180212|Feb 12, 2018|   201802| WK 02, 2018|    201801|    Feb, 2018|      20181|      Q1, 2018|     2018|        2018|SPRG2018|Spring 2018|    20170213|     20160215|      2|      9|      9|      9|      2|      1|      1|2018-02-12|\n| 20180213|Feb 13, 2018|   201802| WK 02, 2018|    201801|    Feb, 2018|      20181|      Q1, 2018|     2018|        2018|SPRG2018|Spring 2018|    20170214|     20160216|      3|     10|     10|     10|      2|      1|      1|2018-02-13|\n| 20180214|Feb 14, 2018|   201802| WK 02, 2018|    201801|    Feb, 2018|      20181|      Q1, 2018|     2018|        2018|SPRG2018|Spring 2018|    20170215|     20160217|      4|     11|     11|     11|      2|      1|      1|2018-02-14|\n| 20180215|Feb 15, 2018|   201802| WK 02, 2018|    201801|    Feb, 2018|      20181|      Q1, 2018|     2018|        2018|SPRG2018|Spring 2018|    20170216|     20160218|      5|     12|     12|     12|      2|      1|      1|2018-02-15|\n| 20180216|Feb 16, 2018|   201802| WK 02, 2018|    201801|    Feb, 2018|      20181|      Q1, 2018|     2018|        2018|SPRG2018|Spring 2018|    20170217|     20160219|      6|     13|     13|     13|      2|      1|      1|2018-02-16|\n| 20180217|Feb 17, 2018|   201802| WK 02, 2018|    201801|    Feb, 2018|      20181|      Q1, 2018|     2018|        2018|SPRG2018|Spring 2018|    20170218|     20160220|      7|     14|     14|     14|      2|      1|      1|2018-02-17|\n| 20180218|Feb 18, 2018|   201803| WK 03, 2018|    201801|    Feb, 2018|      20181|      Q1, 2018|     2018|        2018|SPRG2018|Spring 2018|    20170219|     20160221|      1|     15|     15|     15|      3|      1|      1|2018-02-18|\n| 20180219|Feb 19, 2018|   201803| WK 03, 2018|    201801|    Feb, 2018|      20181|      Q1, 2018|     2018|        2018|SPRG2018|Spring 2018|    20170220|     20160222|      2|     16|     16|     16|      3|      1|      1|2018-02-19|\n| 20180220|Feb 20, 2018|   201803| WK 03, 2018|    201801|    Feb, 2018|      20181|      Q1, 2018|     2018|        2018|SPRG2018|Spring 2018|    20170221|     20160223|      3|     17|     17|     17|      3|      1|      1|2018-02-20|\n| 20180221|Feb 21, 2018|   201803| WK 03, 2018|    201801|    Feb, 2018|      20181|      Q1, 2018|     2018|        2018|SPRG2018|Spring 2018|    20170222|     20160224|      4|     18|     18|     18|      3|      1|      1|2018-02-21|\n| 20180222|Feb 22, 2018|   201803| WK 03, 2018|    201801|    Feb, 2018|      20181|      Q1, 2018|     2018|        2018|SPRG2018|Spring 2018|    20170223|     20160225|      5|     19|     19|     19|      3|      1|      1|2018-02-22|\n| 20180223|Feb 23, 2018|   201803| WK 03, 2018|    201801|    Feb, 2018|      20181|      Q1, 2018|     2018|        2018|SPRG2018|Spring 2018|    20170224|     20160226|      6|     20|     20|     20|      3|      1|      1|2018-02-23|\n+---------+------------+---------+------------+----------+-------------+-----------+--------------+---------+------------+--------+-----------+------------+-------------+-------+-------+-------+-------+-------+-------+-------+----------+\nonly showing top 20 rows\n\n"
     ]
    }
   ],
   "source": [
    "\n",
    "df_clnd = spark.read.option(\"delimiter\", \"|\").option(\"compression\", \"gzip\").option(\"header\",\"True\").csv(\"/FileStore/hier_clnd_dlm.gz\")\n",
    "df_clnd.show()"
   ]
  },
  {
   "cell_type": "code",
   "execution_count": 0,
   "metadata": {
    "application/vnd.databricks.v1+cell": {
     "cellMetadata": {},
     "inputWidgets": {},
     "nuid": "bc09a30d-05a9-4b3e-8544-c050dcf793c1",
     "showTitle": false,
     "title": ""
    }
   },
   "outputs": [],
   "source": [
    "\n",
    "df_clnd = spark.read.option(\"delimiter\", \"|\").option(\"compression\", \"gzip\").option(\"header\",\"True\").csv(\"/FileStore/hier_clnd_dlm.gz\")\n",
    "df_clnd.show()"
   ]
  },
  {
   "cell_type": "code",
   "execution_count": 0,
   "metadata": {
    "application/vnd.databricks.v1+cell": {
     "cellMetadata": {
      "byteLimit": 2048000,
      "rowLimit": 10000
     },
     "inputWidgets": {},
     "nuid": "3ac0bfcf-4b7b-43ac-bae8-259a7f0cde5c",
     "showTitle": false,
     "title": ""
    }
   },
   "outputs": [
    {
     "output_type": "stream",
     "name": "stdout",
     "output_type": "stream",
     "text": [
      "+---------+-------+------+-------------------+-----------+----------+---------+-----------------+-----------+-------------+------------------+-----------------+----------------+\n| order_id|line_id|  type|                 dt|pos_site_id|    sku_id|fscldt_id|price_substate_id|sales_units|sales_dollars|  discount_dollars|original_order_id|original_line_id|\n+---------+-------+------+-------------------+-----------+----------+---------+-----------------+-----------+-------------+------------------+-----------------+----------------+\n|164087401|      2|  Sale|2016-01-31T06:17:01|    CATMAIN|2668940801| 20160131|               FP|          1|        58.95|                 0|             null|            null|\n|164087409|      4|  Sale|2016-01-31T06:17:25|    CATMAIN|2920920601| 20160131|               FP|          1|        49.95|                 0|             null|            null|\n|164087440|      2|  Sale|2016-01-31T06:19:28|   INETMAIN|0695690000| 20160131|               FP|          2|         37.9|                 0|             null|            null|\n|164087469|      2|  Sale|2016-01-31T07:03:00|    CATMAIN|0505490000| 20160131|               FP|          1|           45|                 0|             null|            null|\n|164087472|      2|  Sale|2016-01-31T07:07:36|    CATMAIN|2872180801| 20160131|               FP|          1|        98.95|                 0|             null|            null|\n|164087476|      1|  Sale|2016-01-31T07:16:49|    CATMAIN|4840520704| 20160131|               FP|          2|        139.9|                 0|             null|            null|\n|164087482|      1|  Sale|2016-01-31T07:28:10|    CATMAIN|0403081000| 20160131|               FP|          1|        22.95|                 0|             null|            null|\n|164087501|      2|  Sale|2016-01-31T08:26:32|    CATMAIN|0700002000| 20160131|               FP|          1|        24.95|                 0|             null|            null|\n|164087518|      1|  Sale|2016-01-31T11:10:29|    CATMAIN|2598481801| 20160131|               FP|          1|        59.95|                 0|             null|            null|\n|164087571|      1|  Sale|2016-01-31T13:38:18|    CATMAIN|2815121701| 20160131|               FP|          1|       118.95|                 0|             null|            null|\n|164087595|      2|  Sale|2016-01-31T14:13:13|    CATMAIN|2598440801| 20160131|               FP|          1|        59.95|                 0|             null|            null|\n|164087609|      2|  Sale|2016-01-31T14:21:51|    CATMAIN|2668920601| 20160131|               FP|          1|        58.95|                 0|             null|            null|\n|164074437|      2|Return|2016-01-31T14:30:15|   CATPROSP|7208420300| 20160131|               FP|          1|        45.54|4.4100000000000001|        164074437|               0|\n|164087664|      3|  Sale|2016-01-31T14:57:50|   INETMAIN|2812520801| 20160131|               FP|          1|        49.95|                 0|             null|            null|\n|164087693|      4|  Sale|2016-01-31T15:18:35|    CATMAIN|0487610000| 20160131|               FP|          1|           25|                 0|             null|            null|\n|164087693|      3|  Sale|2016-01-31T15:18:35|    CATMAIN|2668941801| 20160131|               FP|          1|        58.95|                 0|             null|            null|\n|164087698|      2|  Sale|2016-01-31T15:22:06|    CATMAIN|2767891801| 20160131|               FP|          1|        79.95|                 0|             null|            null|\n|164087720|      3|  Sale|2016-01-31T15:32:02|    CATMAIN|2767891601| 20160131|               FP|          1|        79.95|                 0|             null|            null|\n|164087749|      1|  Sale|2016-01-31T15:43:11|    CATMAIN|2767891701| 20160131|               FP|          1|        79.95|                 0|             null|            null|\n|164087757|      1|  Sale|2016-01-31T15:48:32|    CATMAIN|0606590996| 20160131|               FP|          1|        18.95|                 0|             null|            null|\n+---------+-------+------+-------------------+-----------+----------+---------+-----------------+-----------+-------------+------------------+-----------------+----------------+\nonly showing top 20 rows\n\n"
     ]
    }
   ],
   "source": [
    "\n",
    "\n",
    "df_fact2 = spark.read.option(\"delimiter\", \"|\").option(\"compression\", \"gzip\").option(\"header\",\"True\").csv(\"/FileStore/fact_transactions_dlm.gz\")\n",
    "df_fact2.show()"
   ]
  },
  {
   "cell_type": "code",
   "execution_count": 0,
   "metadata": {
    "application/vnd.databricks.v1+cell": {
     "cellMetadata": {
      "byteLimit": 2048000,
      "rowLimit": 10000
     },
     "inputWidgets": {},
     "nuid": "99dd5009-356b-463e-8a2c-d572c1b58371",
     "showTitle": false,
     "title": ""
    }
   },
   "outputs": [
    {
     "output_type": "stream",
     "name": "stdout",
     "output_type": "stream",
     "text": [
      "1820\n1820\n4503108\n509965\n"
     ]
    }
   ],
   "source": [
    "#logic to remove null values\n",
    "print(df_clnd.count())\n",
    "df_clnd=df_clnd.na.drop()\n",
    "print(df_clnd.count())\n",
    "\n",
    "print(df_fact2.count())\n",
    "df_fact2=df_fact2.na.drop()\n",
    "print(df_fact2.count())"
   ]
  },
  {
   "cell_type": "code",
   "execution_count": 0,
   "metadata": {
    "application/vnd.databricks.v1+cell": {
     "cellMetadata": {
      "byteLimit": 2048000,
      "rowLimit": 10000
     },
     "inputWidgets": {},
     "nuid": "3451491c-bce9-4e52-a706-aa3511112eb5",
     "showTitle": false,
     "title": ""
    }
   },
   "outputs": [
    {
     "output_type": "stream",
     "name": "stdout",
     "output_type": "stream",
     "text": [
      "1820\n1820\n509965\n509965\n"
     ]
    }
   ],
   "source": [
    "#logic to drop duplicates\n",
    "print(df_clnd.count())\n",
    "df_clnd=df_clnd.dropDuplicates()\n",
    "print(df_clnd.count())\n",
    "\n",
    "print(df_fact2.count())\n",
    "df_fact2=df_fact2.dropDuplicates()\n",
    "print(df_fact2.count())"
   ]
  },
  {
   "cell_type": "code",
   "execution_count": 0,
   "metadata": {
    "application/vnd.databricks.v1+cell": {
     "cellMetadata": {
      "byteLimit": 2048000,
      "rowLimit": 10000
     },
     "inputWidgets": {},
     "nuid": "98626711-bc97-46c8-b3f4-d0d0336668e2",
     "showTitle": false,
     "title": ""
    }
   },
   "outputs": [
    {
     "output_type": "stream",
     "name": "stdout",
     "output_type": "stream",
     "text": [
      "+---------------+-------+------+-------------------+-----------+----------+---------+-----------------+-----------+-------------+------------------+-----------------+----------------+---------+------------+---------+------------+----------+-------------+-----------+--------------+---------+------------+--------+-----------+------------+-------------+-------+-------+-------+-------+-------+-------+-------+----------+\n|       order_id|line_id|  type|                 dt|pos_site_id|    sku_id|fscldt_id|price_substate_id|sales_units|sales_dollars|  discount_dollars|original_order_id|original_line_id|fscldt_id|fscldt_label|fsclwk_id|fsclwk_label|fsclmth_id|fsclmth_label|fsclqrtr_id|fsclqrtr_label|fsclyr_id|fsclyr_label|  ssn_id|  ssn_label|ly_fscldt_id|lly_fscldt_id|fscldow|fscldom|fscldoq|fscldoy|fsclwoy|fsclmoy|fsclqoy|      date|\n+---------------+-------+------+-------------------+-----------+----------+---------+-----------------+-----------+-------------+------------------+-----------------+----------------+---------+------------+---------+------------+----------+-------------+-----------+--------------+---------+------------+--------+-----------+------------+-------------+-------+-------+-------+-------+-------+-------+-------+----------+\n|      184057191|      1|Return|2018-02-07T17:47:56|    RTLOPCS|2969530801| 20180207|               FP|          1|        67.64|             12.31|        184057191|               0| 20180207| Feb 7, 2018|   201801| WK 01, 2018|    201801|    Feb, 2018|      20181|      Q1, 2018|     2018|        2018|SPRG2018|Spring 2018|    20170208|     20160210|      4|      4|      4|      4|      1|      1|      1|2018-02-07|\n|      184051526|      1|Return|2018-02-15T04:29:40|    RTLOPCS|2924480701| 20180215|               FP|          1|           29|20.949999999999999|        184051526|               0| 20180215|Feb 15, 2018|   201802| WK 02, 2018|    201801|    Feb, 2018|      20181|      Q1, 2018|     2018|        2018|SPRG2018|Spring 2018|    20170216|     20160218|      5|     12|     12|     12|      2|      1|      1|2018-02-15|\n|      184085245|      3|Return|2018-02-19T03:35:05|   INETMAIN|2916420601| 20180219|               FP|          1|        79.95|                 0|        184085245|               0| 20180219|Feb 19, 2018|   201803| WK 03, 2018|    201801|    Feb, 2018|      20181|      Q1, 2018|     2018|        2018|SPRG2018|Spring 2018|    20170220|     20160222|      2|     16|     16|     16|      3|      1|      1|2018-02-19|\n|      184131286|      1|Return|2018-02-21T16:52:48|    CATMAIN|0487612000| 20180221|               FP|          4|          100|                 0|        184131286|               1| 20180221|Feb 21, 2018|   201803| WK 03, 2018|    201801|    Feb, 2018|      20181|      Q1, 2018|     2018|        2018|SPRG2018|Spring 2018|    20170222|     20160224|      4|     18|     18|     18|      3|      1|      1|2018-02-21|\n| 18022518016262|      1|Return|2018-02-25T16:16:48|        180|2924421701| 20180225|               FP|          1|        49.95|                 0|   18021818024205|               0| 20180225|Feb 25, 2018|   201804| WK 04, 2018|    201801|    Feb, 2018|      20181|      Q1, 2018|     2018|        2018|SPRG2018|Spring 2018|    20170226|     20160228|      1|     22|     22|     22|      4|      1|      1|2018-02-25|\n|      184220763|      3|Return|2018-03-02T19:24:52|    CATMAIN|2668920601| 20180302|               FP|          1|        50.11|8.8399999999999999|        184220763|               0| 20180302| Mar 2, 2018|   201804| WK 04, 2018|    201801|    Feb, 2018|      20181|      Q1, 2018|     2018|        2018|SPRG2018|Spring 2018|    20170303|     20160304|      6|     27|     27|     27|      4|      1|      1|2018-03-02|\n|      184203213|      5|Return|2018-03-05T14:13:44|   INETMAIN|2AZ2310701| 20180305|               FP|          1|        79.95|                 0|        184203213|               0| 20180305| Mar 5, 2018|   201805| WK 05, 2018|    201802|    Mar, 2018|      20181|      Q1, 2018|     2018|        2018|SPRG2018|Spring 2018|    20170306|     20160307|      2|      2|     30|     30|      5|      2|      1|2018-03-05|\n|      175534373|      5|Return|2018-03-07T13:10:55|   INETMAIN|2631210601| 20180307|               FP|          1|        98.95|                 0|        175534373|               0| 20180307| Mar 7, 2018|   201805| WK 05, 2018|    201802|    Mar, 2018|      20181|      Q1, 2018|     2018|        2018|SPRG2018|Spring 2018|    20170308|     20160309|      4|      4|     32|     32|      5|      2|      1|2018-03-07|\n|      175330646|      3|Return|2018-03-07T18:31:06|    RTLOPCS|2598440801| 20180307|               FP|          1|        47.96|             11.99|        175330646|               0| 20180307| Mar 7, 2018|   201805| WK 05, 2018|    201802|    Mar, 2018|      20181|      Q1, 2018|     2018|        2018|SPRG2018|Spring 2018|    20170308|     20160309|      4|      4|     32|     32|      5|      2|      1|2018-03-07|\n|      184281470|      1|Cancel|2018-03-11T17:25:04|    CATMAIN|2990680801| 20180311|               FP|          1|        69.95|                 0|        184281470|               0| 20180311|Mar 11, 2018|   201806| WK 06, 2018|    201802|    Mar, 2018|      20181|      Q1, 2018|     2018|        2018|SPRG2018|Spring 2018|    20170312|     20160313|      1|      8|     36|     36|      6|      2|      1|2018-03-11|\n|180311167123895|      1|Return|2018-03-11T20:11:03|        167|2AW4231701| 20180311|               FP|          1|        69.95|                 0|  180310167313209|               0| 20180311|Mar 11, 2018|   201806| WK 06, 2018|    201802|    Mar, 2018|      20181|      Q1, 2018|     2018|        2018|SPRG2018|Spring 2018|    20170312|     20160313|      1|      8|     36|     36|      6|      2|      1|2018-03-11|\n|      184229468|      3|Return|2018-03-12T12:26:35|    CATMAIN|2984330701| 20180312|               FP|          1|       128.95|                 0|        184229468|               0| 20180312|Mar 12, 2018|   201806| WK 06, 2018|    201802|    Mar, 2018|      20181|      Q1, 2018|     2018|        2018|SPRG2018|Spring 2018|    20170313|     20160314|      2|      9|     37|     37|      6|      2|      1|2018-03-12|\n|      184175570|      2|Return|2018-03-12T21:23:26|    INETOUT|1AH6330000| 20180312|              MD1|          1|        19.99|                 0|        184175570|               0| 20180312|Mar 12, 2018|   201806| WK 06, 2018|    201802|    Mar, 2018|      20181|      Q1, 2018|     2018|        2018|SPRG2018|Spring 2018|    20170313|     20160314|      2|      9|     37|     37|      6|      2|      1|2018-03-12|\n|      184185922|      2|Return|2018-03-13T13:47:26|    CATSALE|2666820701| 20180313|               FP|          1|        33.96|5.9900000000000002|        184185922|               0| 20180313|Mar 13, 2018|   201806| WK 06, 2018|    201802|    Mar, 2018|      20181|      Q1, 2018|     2018|        2018|SPRG2018|Spring 2018|    20170314|     20160315|      3|     10|     38|     38|      6|      2|      1|2018-03-13|\n|      184178023|      4|Return|2018-03-14T21:17:41|    CATSALE|0712390000| 20180314|              MD1|          1|        24.99|                 0|        184178023|               0| 20180314|Mar 14, 2018|   201806| WK 06, 2018|    201802|    Mar, 2018|      20181|      Q1, 2018|     2018|        2018|SPRG2018|Spring 2018|    20170315|     20160316|      4|     11|     39|     39|      6|      2|      1|2018-03-14|\n|      184084535|      1|Return|2018-03-15T23:11:00|    CATMAIN|2AW0040701| 20180315|               FP|          1|        79.95|                 0|        184084535|               0| 20180315|Mar 15, 2018|   201806| WK 06, 2018|    201802|    Mar, 2018|      20181|      Q1, 2018|     2018|        2018|SPRG2018|Spring 2018|    20170316|     20160317|      5|     12|     40|     40|      6|      2|      1|2018-03-15|\n|180318131268965|      1|Return|2018-03-18T16:59:37|        131|0442890000| 20180318|               FP|          1|           45|                 0|  180310131268736|               0| 20180318|Mar 18, 2018|   201807| WK 07, 2018|    201802|    Mar, 2018|      20181|      Q1, 2018|     2018|        2018|SPRG2018|Spring 2018|    20170319|     20160320|      1|     15|     43|     43|      7|      2|      1|2018-03-18|\n|      184192558|      2|Return|2018-03-19T21:58:20|   INETMAIN|5926260913| 20180319|               FP|          1|       128.95|                 0|        184192558|               2| 20180319|Mar 19, 2018|   201807| WK 07, 2018|    201802|    Mar, 2018|      20181|      Q1, 2018|     2018|        2018|SPRG2018|Spring 2018|    20170320|     20160321|      2|     16|     44|     44|      7|      2|      1|2018-03-19|\n|180321143239975|      3|Return|2018-03-22T00:44:44|        143|2AL8220901| 20180322|               FP|          1|        67.09|12.859999999999999|  180320143316768|               0| 20180322|Mar 22, 2018|   201807| WK 07, 2018|    201802|    Mar, 2018|      20181|      Q1, 2018|     2018|        2018|SPRG2018|Spring 2018|    20170323|     20160324|      5|     19|     47|     47|      7|      2|      1|2018-03-22|\n|180323143316835|      5|Return|2018-03-23T20:46:28|        143|0797003000| 20180323|               FP|          1|       164.66|             10.34|  180323143316834|               0| 20180323|Mar 23, 2018|   201807| WK 07, 2018|    201802|    Mar, 2018|      20181|      Q1, 2018|     2018|        2018|SPRG2018|Spring 2018|    20170324|     20160325|      6|     20|     48|     48|      7|      2|      1|2018-03-23|\n+---------------+-------+------+-------------------+-----------+----------+---------+-----------------+-----------+-------------+------------------+-----------------+----------------+---------+------------+---------+------------+----------+-------------+-----------+--------------+---------+------------+--------+-----------+------------+-------------+-------+-------+-------+-------+-------+-------+-------+----------+\nonly showing top 20 rows\n\n"
     ]
    }
   ],
   "source": [
    "final_res_df= df_fact2.join(df_clnd,df_fact2.fscldt_id == df_clnd.fscldt_id,\"inner\")\n",
    "final_res_df.show()"
   ]
  },
  {
   "cell_type": "code",
   "execution_count": 0,
   "metadata": {
    "application/vnd.databricks.v1+cell": {
     "cellMetadata": {
      "byteLimit": 2048000,
      "rowLimit": 10000
     },
     "inputWidgets": {},
     "nuid": "e173c275-8610-4d72-805c-cdd813f42ec7",
     "showTitle": false,
     "title": ""
    }
   },
   "outputs": [
    {
     "output_type": "stream",
     "name": "stdout",
     "output_type": "stream",
     "text": [
      "+-----------+----------+------+---------+-----------------+----------+------------------+----------------+\n|pos_site_id|    sku_id|  type|fsclwk_id|price_substate_id|sales_unit|     sales_dollars|discount_dollars|\n+-----------+----------+------+---------+-----------------+----------+------------------+----------------+\n|    CATMAIN|2BX7581801|Return|   201847|               FP|      39.0|           2686.09|           41.96|\n|        134|2AT5910801|Return|   201943|               FP|       1.0|             89.95|             0.0|\n|        180|2AW0040801|Return|   201848|               FP|       1.0|             40.87|           39.08|\n|    CATSALE|2916430801|Return|   201937|              MD1|       3.0|            113.97|             6.0|\n|    CATMAIN|2AW0040701|Return|   201837|               FP|      22.0|1746.9100000000003|           11.99|\n|   INETMAIN|2CQ4010701|Return|   201934|               FP|      10.0|            959.82|           29.68|\n|   INETMAIN|5926260913|Return|   201819|               FP|       5.0|            644.75|             0.0|\n|    INETOUT|2BY6540801|Return|   201945|              MD1|       1.0|             59.99|             0.0|\n|    CATSALE|0712390000|Return|   201805|              MD1|       1.0|             24.99|             0.0|\n|    CATMAIN|2AG9340801|Cancel|   201922|               FP|       9.0|            879.49|           11.06|\n|        181|0886490000|Return|   201940|              MD1|       1.0|              9.99|             0.0|\n|    CATMAIN|2870720701|Return|   201847|               FP|      39.0|           2024.51|           59.44|\n|    CATMAIN|2BE5150601|Return|   201917|               FP|       3.0|             221.8|           18.05|\n|    RTLOPCS|2AW3320701|Return|   201845|               FP|       1.0|             89.95|             0.0|\n|        154|2259240701|Return|   201908|               FP|       1.0|             69.95|             0.0|\n|        158|2920930801|Return|   201923|               FP|       1.0|             59.95|             0.0|\n|   INETMAIN|2AW5620801|Return|   201842|               FP|       1.0|             69.95|             0.0|\n|    CATMAIN|2AM8450901|Return|   201919|               FP|       9.0| 629.5500000000001|             0.0|\n|    RTLOPCS|2982570701|Return|   201942|               FP|       4.0|             472.0|             0.0|\n|    CATMAIN|2259240701|Return|   201811|               FP|      26.0|1818.6999999999998|             0.0|\n+-----------+----------+------+---------+-----------------+----------+------------------+----------------+\nonly showing top 20 rows\n\n"
     ]
    }
   ],
   "source": [
    "from pyspark.sql.functions import sum\n",
    "mview_weekly_sales = final_res_df.groupBy(\"pos_site_id\",\"sku_id\",\"type\",\"fsclwk_id\",\"price_substate_id\").agg(sum(\"sales_units\").alias(\"sales_unit\"),sum(\"sales_dollars\").alias(\"sales_dollars\"),sum(\"discount_dollars\").alias(\"discount_dollars\"))\n",
    "mview_weekly_sales.show()"
   ]
  },
  {
   "cell_type": "code",
   "execution_count": 0,
   "metadata": {
    "application/vnd.databricks.v1+cell": {
     "cellMetadata": {
      "byteLimit": 2048000,
      "rowLimit": 10000
     },
     "inputWidgets": {},
     "nuid": "36f34089-7dd7-435e-a675-4d72441157b9",
     "showTitle": false,
     "title": ""
    }
   },
   "outputs": [],
   "source": [
    "mview_weekly_sales.write.format(\"delta\").save(\"/FileStore/mview_weekly_sales\")"
   ]
  }
 ],
 "metadata": {
  "application/vnd.databricks.v1+notebook": {
   "dashboards": [],
   "language": "python",
   "notebookMetadata": {
    "mostRecentlyExecutedCommandWithImplicitDF": {
     "commandId": 449599415754171,
     "dataframes": [
      "_sqldf"
     ]
    },
    "pythonIndentUnit": 4
   },
   "notebookName": "Interview_challenge",
   "widgets": {}
  }
 },
 "nbformat": 4,
 "nbformat_minor": 0
}
